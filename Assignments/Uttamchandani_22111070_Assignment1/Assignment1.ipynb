{
 "cells": [
  {
   "cell_type": "code",
   "execution_count": 1,
   "id": "34d4646d",
   "metadata": {},
   "outputs": [],
   "source": [
    "# Import VTK library\n",
    "from vtk import *"
   ]
  },
  {
   "cell_type": "code",
   "execution_count": 2,
   "id": "5b849b72",
   "metadata": {},
   "outputs": [],
   "source": [
    "# Read in a dataset using the vtkXMLImageDataReader\n",
    "reader = vtkXMLImageDataReader()\n",
    "reader.SetFileName('Data/Isabel_2D.vti')\n",
    "reader.Update()\n",
    "data = reader.GetOutput()"
   ]
  },
  {
   "cell_type": "code",
   "execution_count": 3,
   "id": "bb1de7e7",
   "metadata": {},
   "outputs": [],
   "source": [
    "\n",
    "# Get the number of cells and number of points in the dataset\n",
    "numOfCells = data.GetNumberOfCells()\n",
    "numOfPoints = data.GetNumberOfPoints()"
   ]
  },
  {
   "cell_type": "code",
   "execution_count": 4,
   "id": "233a83c3",
   "metadata": {},
   "outputs": [],
   "source": [
    "# Get the dimensions and scalar dimensions of the dataset\n",
    "dim = data.GetDimensions()\n",
    "scalar_dim = data.GetDataDimension()\n"
   ]
  },
  {
   "cell_type": "code",
   "execution_count": 5,
   "id": "dc6f9b04",
   "metadata": {},
   "outputs": [],
   "source": [
    "# Get the point data and pressure array\n",
    "pdata = data.GetPointData()\n",
    "pressureArr = pdata.GetArray('Pressure')\n",
    "\n",
    "# Get the range of pressure values \n",
    "pressureRange = pressureArr.GetRange()\n",
    "\n",
    "# Calculate the average pressure value\n",
    "Sum = 0\n",
    "for i in __builtins__.range(numOfPoints):\n",
    "    Sum += pressureArr.GetValue(i)\n",
    "avgPressure = Sum/numOfPoints\n"
   ]
  },
  {
   "cell_type": "code",
   "execution_count": 6,
   "id": "310e2bd4",
   "metadata": {},
   "outputs": [],
   "source": [
    "# Extracted cell with specified cellId\n",
    "cellId = 0\n",
    "vtkCell = data.GetCell(cellId)\n",
    "\n",
    "# Getting Point Ids\n",
    "pointIds = vtkCell.GetPointIds()\n",
    "\n",
    "# Get the indices, coordinates, and pressure values of the points in the cell\n",
    "indices = []\n",
    "coordinates = []\n",
    "pressureValues = []\n",
    "for i in __builtins__.range(pointIds.GetNumberOfIds()):\n",
    "    indices.append(pointIds.GetId(i))\n",
    "    coordinates.append(data.GetPoint(vtkCell.GetPointId(i)))\n",
    "    pressureValues.append(pressureArr.GetTuple1(indices[i]))"
   ]
  },
  {
   "cell_type": "code",
   "execution_count": 7,
   "id": "a982cf5e",
   "metadata": {},
   "outputs": [],
   "source": [
    "# Calculate the center point of the cell\n",
    "center_x = 0\n",
    "center_y = 0\n",
    "center_z = 25\n",
    "for i in __builtins__.range(pointIds.GetNumberOfIds()):\n",
    "    center_x += coordinates[i][0]\n",
    "    center_y += coordinates[i][1]\n",
    "center_x /= 4\n",
    "center_y /= 4\n",
    "cell_center = (center_x, center_y, center_z)"
   ]
  },
  {
   "cell_type": "code",
   "execution_count": 8,
   "id": "bb61be65",
   "metadata": {},
   "outputs": [],
   "source": [
    "# Calculate the average pressure value of the points in the cell\n",
    "sum = 0\n",
    "for i in pressureValues:\n",
    "    sum += i\n",
    "avgValues = sum/len(pressureValues)"
   ]
  },
  {
   "cell_type": "code",
   "execution_count": 9,
   "id": "0f0f7747",
   "metadata": {},
   "outputs": [
    {
     "name": "stdout",
     "output_type": "stream",
     "text": [
      "Number of cells: 62001\n",
      "\n",
      "Number of points: 62500\n",
      "\n",
      "The dimensions of the dataset are:  (250, 250, 1)\n",
      "The dimensionality of the dataset :  2\n",
      "\n",
      "Range of Pressure Values present in Dataset:  (-1434.8590087890625, 630.5694580078125)\n",
      "\n",
      "The Average Pressure value of the entire dataset: 240.77722069091325\n",
      "\n",
      "Extracted Cell with Cell Id: 0\n",
      "\n",
      "Indices of 4 corner vertex:\n",
      "0 1 250 251 \n",
      "\n",
      "3D Coordinate of each vertex:\n",
      "(0.0, 0.0, 25.0)\n",
      "(1.0, 0.0, 25.0)\n",
      "(0.0, 1.0, 25.0)\n",
      "(1.0, 1.0, 25.0)\n",
      "\n",
      "Cente of the Cell: (0.5, 0.5, 25)\n",
      "\n",
      "Pressure Values of 4 vertices:\n",
      " [477.527587890625, 474.79827880859375, 478.0115661621094, 467.60699462890625]\n",
      "\n",
      "Average of Pressure values of vertices 474.4861068725586\n"
     ]
    }
   ],
   "source": [
    "# Print the number of cells, dimensions, and number of points\n",
    "\n",
    "print(\"Number of cells:\", numOfCells)\n",
    "print(\"\\nNumber of points:\", numOfPoints)\n",
    "print(\"\\nThe dimensions of the dataset are: \", dim)\n",
    "print(\"The dimensionality of the dataset : \", scalar_dim)\n",
    "\n",
    "# Print range of pressure values present in dataset and average of those pressure values\n",
    "\n",
    "print(\"\\nRange of Pressure Values present in Dataset: \", pressureRange)\n",
    "print(\"\\nThe Average Pressure value of the entire dataset:\", avgPressure)\n",
    "\n",
    "# Print indices of Four corner vertice of cell, coordinates of each vertex and cell center\n",
    "print(\"\\nExtracted Cell with Cell Id: {0}\".format(cellId))\n",
    "print(\"\\nIndices of 4 corner vertex:\")\n",
    "for i in indices:\n",
    "    print(i,end=\" \")\n",
    "print()\n",
    "print(\"\\n3D Coordinate of each vertex:\")\n",
    "for i in coordinates:\n",
    "    print(i)\n",
    "print(\"\\nCente of the Cell:\",cell_center)\n",
    "\n",
    "# Pressure values of 4 vertices of cell and their average\n",
    "print(\"\\nPressure Values of 4 vertices:\\n\",pressureValues)\n",
    "print(\"\\nAverage of Pressure values of vertices\",avgValues)\n"
   ]
  },
  {
   "cell_type": "code",
   "execution_count": 10,
   "id": "ab8d769f",
   "metadata": {},
   "outputs": [],
   "source": [
    "# Create a vtkPolyData object\n",
    "polyData = vtkPolyData()\n",
    "points = vtkPoints()"
   ]
  },
  {
   "cell_type": "code",
   "execution_count": 11,
   "id": "7147e511",
   "metadata": {},
   "outputs": [],
   "source": [
    "\n",
    "# Add the coordinates of the points in the cell to the vtkPolydata object\n",
    "for i in __builtins__.range(4):\n",
    "    points.InsertNextPoint(coordinates[i])\n",
    "polyData.SetPoints(points)"
   ]
  },
  {
   "cell_type": "code",
   "execution_count": 12,
   "id": "e9d7eb9c",
   "metadata": {},
   "outputs": [
    {
     "data": {
      "text/plain": [
       "0"
      ]
     },
     "execution_count": 12,
     "metadata": {},
     "output_type": "execute_result"
    }
   ],
   "source": [
    "# Create an array of colors\n",
    "colors = vtkUnsignedCharArray()\n",
    "colors.SetNumberOfComponents(3)\n",
    "colors.SetName(\"Colors\")\n",
    "\n",
    "#Assigning Different Color to each vertex\n",
    "colors.InsertNextTuple3(255, 0, 0) # red\n",
    "colors.InsertNextTuple3(0, 255, 0) # green\n",
    "colors.InsertNextTuple3(0, 0, 255) # blue\n",
    "colors.InsertNextTuple3(255, 255, 0) # yellow\n",
    "polyData.GetPointData().SetScalars(colors)"
   ]
  },
  {
   "cell_type": "code",
   "execution_count": 13,
   "id": "f567342f",
   "metadata": {},
   "outputs": [],
   "source": [
    "# Create a glyph filter\n",
    "glyphFilter = vtkVertexGlyphFilter()\n",
    "glyphFilter.SetInputData(polyData)\n",
    "glyphFilter.Update()\n",
    "\n",
    "\n",
    "# Create a mapper\n",
    "mapper = vtkPolyDataMapper()\n",
    "mapper.SetInputConnection(glyphFilter.GetOutputPort())\n",
    "\n",
    "\n",
    "# Create an actor\n",
    "actor = vtkActor()\n",
    "actor.SetMapper(mapper)\n",
    "actor.GetProperty().SetPointSize(25)"
   ]
  },
  {
   "cell_type": "code",
   "execution_count": 14,
   "id": "902138ec",
   "metadata": {},
   "outputs": [],
   "source": [
    "\n",
    "# Create a renderer\n",
    "renderer = vtkRenderer()\n",
    "\n",
    "renderer.AddActor(actor)\n",
    "\n",
    "# Create a render window\n",
    "window = vtkRenderWindow()\n",
    "window.SetSize(800,800)\n",
    "window.AddRenderer(renderer)\n",
    "\n",
    "# Create a render window interactor\n",
    "interactor = vtkRenderWindowInteractor()\n",
    "interactor.SetRenderWindow(window)\n",
    "\n",
    "# Render the window\n",
    "window.Render()\n",
    "interactor.Initialize()\n",
    "interactor.Start()"
   ]
  }
 ],
 "metadata": {
  "kernelspec": {
   "display_name": "Python 3",
   "language": "python",
   "name": "python3"
  },
  "language_info": {
   "codemirror_mode": {
    "name": "ipython",
    "version": 3
   },
   "file_extension": ".py",
   "mimetype": "text/x-python",
   "name": "python",
   "nbconvert_exporter": "python",
   "pygments_lexer": "ipython3",
   "version": "3.9.4"
  },
  "widgets": {
   "application/vnd.jupyter.widget-state+json": {
    "state": {},
    "version_major": 2,
    "version_minor": 0
   }
  }
 },
 "nbformat": 4,
 "nbformat_minor": 5
}
